{
  "metadata": {
    "kernelspec": {
      "name": "python",
      "display_name": "Python (Pyodide)",
      "language": "python"
    },
    "language_info": {
      "codemirror_mode": {
        "name": "python",
        "version": 3
      },
      "file_extension": ".py",
      "mimetype": "text/x-python",
      "name": "python",
      "nbconvert_exporter": "python",
      "pygments_lexer": "ipython3",
      "version": "3.8"
    }
  },
  "nbformat_minor": 5,
  "nbformat": 4,
  "cells": [
    {
      "id": "89ebc307-cbcd-4d84-bc7c-7ae48afa426d",
      "cell_type": "markdown",
      "source": "# Exercise 2: Create markdown cell with title of the notebook\n# Data Science Tools and Ecosystem",
      "metadata": {}
    },
    {
      "id": "116e35fc-c856-45c8-ad04-95e1330f7202",
      "cell_type": "markdown",
      "source": "# Exercise 3 - Create a markdown cell for an introduction\n# In this notebook, Data Science Tools and Ecosystem are summarized.",
      "metadata": {}
    },
    {
      "id": "bf1e0a86-7c9c-4b86-b618-5c430ce3eb3f",
      "cell_type": "markdown",
      "source": "# Exercise 10 - Insert a markdown cell to list Objectives\n**Objectives:**\n\n- Understand the key concepts and techniques in Data Science.\n- Explore popular programming languages used for Data Science.\n- Learn about data preprocessing and feature engineering.\n- Gain hands-on experience with data visualization tools.\n- Understand machine learning models and their applications.",
      "metadata": {}
    },
    {
      "id": "bd071f86-8846-4a41-af72-ba8ecdcca149",
      "cell_type": "markdown",
      "source": "\n# Exercise 4 - Create a markdown cell to list data science languages\n# Some of the popular languages that Data Scientists use are:\n\n1. Python\n2. R\n3. SQL\n4. Julia",
      "metadata": {}
    },
    {
      "id": "713e1e72-95d0-4db7-a57f-f93f03e2d479",
      "cell_type": "markdown",
      "source": "\n# Exercise 5 - Create a markdown cell to list data science libraries\n# Some of the commonly used libraries used by Data Scientists include:\n\n1. Pandas\n2. NumPy\n3. Matplotlib",
      "metadata": {}
    },
    {
      "id": "7b8df9fd-dbd2-48cc-b612-500e33fabfef",
      "cell_type": "markdown",
      "source": "# Exercise 6 - Create a markdown cell with a table of Data Science tools\n| Data Science Tools |\n|--------------------|\n| Jupyter Notebook   |\n| RStudio            |\n| Apache Zeppelin    |",
      "metadata": {}
    },
    {
      "id": "7e88be5c-9635-40d3-b2d7-cad5ecc401b4",
      "cell_type": "markdown",
      "source": "# Exercise 7 - Create a markdown cell introducing arithmetic expression examples\n### Below are a few examples of evaluating arithmetic expressions in Python",
      "metadata": {}
    },
    {
      "id": "c86670ba-c9db-49c5-9aa5-c0cc0d9c4b3f",
      "cell_type": "code",
      "source": "# Exercise 8 - Create a code cell to multiply and add numbers\n# This is a simple arithmetic expression to multiply then add integers.\nresult = (3 * 4) + 5\nprint(result)",
      "metadata": {
        "trusted": true
      },
      "outputs": [
        {
          "name": "stdout",
          "output_type": "stream",
          "text": "17\n"
        }
      ],
      "execution_count": 1
    },
    {
      "id": "87fd79cd-d0d3-46c8-b84e-b042bcd38167",
      "cell_type": "code",
      "source": "# This will convert 200 minutes to hours by dividing by 60.\nminutes = 200\nhours = minutes / 60\nprint(hours)",
      "metadata": {
        "trusted": true
      },
      "outputs": [
        {
          "name": "stdout",
          "output_type": "stream",
          "text": "3.3333333333333335\n"
        }
      ],
      "execution_count": 2
    },
    {
      "id": "e5724325-959a-4ccb-9bec-a5e4656121a1",
      "cell_type": "code",
      "source": "",
      "metadata": {
        "trusted": true
      },
      "outputs": [],
      "execution_count": null
    }
  ]
}